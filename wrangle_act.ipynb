{
 "cells": [
  {
   "cell_type": "markdown",
   "metadata": {},
   "source": [
    "# WeRateDogs Project\n",
    "## Data Wrangling Code\n",
    "\n",
    "Author: Rahma Ali\n",
    "\n",
    "12-Aug-2020"
   ]
  },
  {
   "cell_type": "markdown",
   "metadata": {},
   "source": [
    "## 1- Gather"
   ]
  },
  {
   "cell_type": "code",
   "execution_count": 1,
   "metadata": {},
   "outputs": [],
   "source": [
    "# Import required libraries\n",
    "import pandas as pd\n",
    "import numpy as np\n",
    "import matplotlib.pyplot as plt\n",
    "import requests\n",
    "import os\n",
    "import json\n",
    "import datetime\n",
    "import seaborn as sns\n",
    "import tweepy\n",
    "from bs4 import BeautifulSoup\n",
    "from tweepy import OAuthHandler\n",
    "from timeit import default_timer as timer\n",
    "%matplotlib inline\n",
    "plt.style.use('ggplot')\n",
    "\n",
    "# Read twitter-archive-enhanced.csv file\n",
    "archive_df = pd.read_csv('twitter-archive-enhanced.csv')"
   ]
  },
  {
   "cell_type": "code",
   "execution_count": 2,
   "metadata": {},
   "outputs": [],
   "source": [
    "# Download and read image-predictions.tsv file\n",
    "img_pred_url = 'https://d17h27t6h515a5.cloudfront.net/topher/2017/August/599fd2ad_image-predictions/image-predictions.tsv'\n",
    "img_file_name = img_pred_url.split(img_pred_url[:-len('image-predictions.tsv')])[1]\n",
    "if not os.path.isfile(img_file_name):\n",
    "    response = requests.get(img_pred_url)\n",
    "    with open(file_name, mode='wb') as file:\n",
    "        file.write(response.content)\n",
    "image_predictions_df = pd.read_csv(img_file_name, sep = '\\t')"
   ]
  },
  {
   "cell_type": "code",
   "execution_count": 3,
   "metadata": {},
   "outputs": [
    {
     "name": "stdout",
     "output_type": "stream",
     "text": [
      "0.0011046429999908014\n",
      "{}\n"
     ]
    }
   ],
   "source": [
    "# THE CODE IN THIS CELL WAS PROVIDED AND IT IS FOR DEMONSTRATION ONLY\n",
    "# Query Twitter API for each tweet in the Twitter archive and save JSON in a text file\n",
    "# These are hidden to comply with Twitter's API terms and conditions\n",
    "consumer_key = 'HIDDEN'\n",
    "consumer_secret = 'HIDDEN'\n",
    "access_token = 'HIDDEN'\n",
    "access_secret = 'HIDDEN'\n",
    "\n",
    "auth = OAuthHandler(consumer_key, consumer_secret)\n",
    "auth.set_access_token(access_token, access_secret)\n",
    "\n",
    "api = tweepy.API(auth, wait_on_rate_limit=True)\n",
    "\n",
    "# NOTE TO STUDENT WITH MOBILE VERIFICATION ISSUES:\n",
    "# df_1 is a DataFrame with the twitter_archive_enhanced.csv file. You may have to\n",
    "# change line 17 to match the name of your DataFrame with twitter_archive_enhanced.csv\n",
    "# NOTE TO REVIEWER: this student had mobile verification issues so the following\n",
    "# Twitter API code was sent to this student from a Udacity instructor\n",
    "# Tweet IDs for which to gather additional data via Twitter's API\n",
    "tweet_ids = archive_df.tweet_id.values\n",
    "len(tweet_ids)\n",
    "\n",
    "# Query Twitter's API for JSON data for each tweet ID in the Twitter archive\n",
    "count = 0\n",
    "fails_dict = {}\n",
    "start = timer()\n",
    "# Save each tweet's returned JSON as a new line in a .txt file\n",
    "if not os.path.isfile('tweet_json.txt'):\n",
    "    with open('tweet_json.txt', 'w') as outfile:\n",
    "    # This loop will likely take 20-30 minutes to run because of Twitter's rate limit\n",
    "        for tweet_id in tweet_ids:\n",
    "            count += 1\n",
    "            print(str(count) + \": \" + str(tweet_id))\n",
    "            try:\n",
    "                tweet = api.get_status(tweet_id, tweet_mode='extended')\n",
    "                print(\"Success\")\n",
    "                json.dump(tweet._json, outfile)\n",
    "                outfile.write('\\n')\n",
    "            except tweepy.TweepError as e:\n",
    "                print(\"Fail\")\n",
    "                fails_dict[tweet_id] = e\n",
    "                pass\n",
    "end = timer()\n",
    "print(end - start)\n",
    "print(fails_dict)"
   ]
  },
  {
   "cell_type": "code",
   "execution_count": 4,
   "metadata": {},
   "outputs": [
    {
     "data": {
      "text/html": [
       "<div>\n",
       "<style scoped>\n",
       "    .dataframe tbody tr th:only-of-type {\n",
       "        vertical-align: middle;\n",
       "    }\n",
       "\n",
       "    .dataframe tbody tr th {\n",
       "        vertical-align: top;\n",
       "    }\n",
       "\n",
       "    .dataframe thead th {\n",
       "        text-align: right;\n",
       "    }\n",
       "</style>\n",
       "<table border=\"1\" class=\"dataframe\">\n",
       "  <thead>\n",
       "    <tr style=\"text-align: right;\">\n",
       "      <th></th>\n",
       "      <th>tweet_id</th>\n",
       "      <th>retweet_count</th>\n",
       "      <th>favorite_count</th>\n",
       "    </tr>\n",
       "  </thead>\n",
       "  <tbody>\n",
       "    <tr>\n",
       "      <th>0</th>\n",
       "      <td>892177421306343426</td>\n",
       "      <td>6514</td>\n",
       "      <td>33819</td>\n",
       "    </tr>\n",
       "    <tr>\n",
       "      <th>1</th>\n",
       "      <td>891689557279858688</td>\n",
       "      <td>8964</td>\n",
       "      <td>42908</td>\n",
       "    </tr>\n",
       "    <tr>\n",
       "      <th>2</th>\n",
       "      <td>891087950875897856</td>\n",
       "      <td>3261</td>\n",
       "      <td>20562</td>\n",
       "    </tr>\n",
       "    <tr>\n",
       "      <th>3</th>\n",
       "      <td>890729181411237888</td>\n",
       "      <td>16716</td>\n",
       "      <td>56848</td>\n",
       "    </tr>\n",
       "    <tr>\n",
       "      <th>4</th>\n",
       "      <td>890240255349198849</td>\n",
       "      <td>7711</td>\n",
       "      <td>32467</td>\n",
       "    </tr>\n",
       "  </tbody>\n",
       "</table>\n",
       "</div>"
      ],
      "text/plain": [
       "             tweet_id  retweet_count  favorite_count\n",
       "0  892177421306343426           6514           33819\n",
       "1  891689557279858688           8964           42908\n",
       "2  891087950875897856           3261           20562\n",
       "3  890729181411237888          16716           56848\n",
       "4  890240255349198849           7711           32467"
      ]
     },
     "execution_count": 4,
     "metadata": {},
     "output_type": "execute_result"
    }
   ],
   "source": [
    "# Extract data from Twitter API tweet-json.txt file\n",
    "tweet_list = []\n",
    "with open('tweet_json.txt', mode='r') as file:\n",
    "    for line in file:\n",
    "        tweet = json.loads(file.readline())\n",
    "        tweet_id = tweet['id']\n",
    "        retweet_count = tweet['retweet_count']\n",
    "        favorite_count = tweet['favorite_count']\n",
    "        tweet_list.append({'tweet_id': tweet_id,\n",
    "                           'retweet_count': retweet_count,\n",
    "                           'favorite_count': favorite_count})\n",
    "api_df = pd.DataFrame(tweet_list, columns = ['tweet_id', 'retweet_count', 'favorite_count'])\n",
    "api_df.head()"
   ]
  },
  {
   "cell_type": "markdown",
   "metadata": {},
   "source": [
    "## 2- Assess\n",
    "### `archive_df`"
   ]
  },
  {
   "cell_type": "code",
   "execution_count": 5,
   "metadata": {},
   "outputs": [
    {
     "name": "stdout",
     "output_type": "stream",
     "text": [
      "<class 'pandas.core.frame.DataFrame'>\n",
      "RangeIndex: 2356 entries, 0 to 2355\n",
      "Data columns (total 17 columns):\n",
      " #   Column                      Non-Null Count  Dtype  \n",
      "---  ------                      --------------  -----  \n",
      " 0   tweet_id                    2356 non-null   int64  \n",
      " 1   in_reply_to_status_id       78 non-null     float64\n",
      " 2   in_reply_to_user_id         78 non-null     float64\n",
      " 3   timestamp                   2356 non-null   object \n",
      " 4   source                      2356 non-null   object \n",
      " 5   text                        2356 non-null   object \n",
      " 6   retweeted_status_id         181 non-null    float64\n",
      " 7   retweeted_status_user_id    181 non-null    float64\n",
      " 8   retweeted_status_timestamp  181 non-null    object \n",
      " 9   expanded_urls               2297 non-null   object \n",
      " 10  rating_numerator            2356 non-null   int64  \n",
      " 11  rating_denominator          2356 non-null   int64  \n",
      " 12  name                        2356 non-null   object \n",
      " 13  doggo                       2356 non-null   object \n",
      " 14  floofer                     2356 non-null   object \n",
      " 15  pupper                      2356 non-null   object \n",
      " 16  puppo                       2356 non-null   object \n",
      "dtypes: float64(4), int64(3), object(10)\n",
      "memory usage: 313.0+ KB\n"
     ]
    }
   ],
   "source": [
    "# Programmatic assessment\n",
    "archive_df.info()"
   ]
  },
  {
   "cell_type": "code",
   "execution_count": 5,
   "metadata": {},
   "outputs": [
    {
     "data": {
      "text/html": [
       "<div>\n",
       "<style scoped>\n",
       "    .dataframe tbody tr th:only-of-type {\n",
       "        vertical-align: middle;\n",
       "    }\n",
       "\n",
       "    .dataframe tbody tr th {\n",
       "        vertical-align: top;\n",
       "    }\n",
       "\n",
       "    .dataframe thead th {\n",
       "        text-align: right;\n",
       "    }\n",
       "</style>\n",
       "<table border=\"1\" class=\"dataframe\">\n",
       "  <thead>\n",
       "    <tr style=\"text-align: right;\">\n",
       "      <th></th>\n",
       "      <th>tweet_id</th>\n",
       "      <th>in_reply_to_status_id</th>\n",
       "      <th>in_reply_to_user_id</th>\n",
       "      <th>timestamp</th>\n",
       "      <th>source</th>\n",
       "      <th>text</th>\n",
       "      <th>retweeted_status_id</th>\n",
       "      <th>retweeted_status_user_id</th>\n",
       "      <th>retweeted_status_timestamp</th>\n",
       "      <th>expanded_urls</th>\n",
       "      <th>rating_numerator</th>\n",
       "      <th>rating_denominator</th>\n",
       "      <th>name</th>\n",
       "      <th>doggo</th>\n",
       "      <th>floofer</th>\n",
       "      <th>pupper</th>\n",
       "      <th>puppo</th>\n",
       "    </tr>\n",
       "  </thead>\n",
       "  <tbody>\n",
       "    <tr>\n",
       "      <th>1719</th>\n",
       "      <td>680161097740095489</td>\n",
       "      <td>NaN</td>\n",
       "      <td>NaN</td>\n",
       "      <td>2015-12-24 23:00:17 +0000</td>\n",
       "      <td>&lt;a href=\"http://twitter.com/download/iphone\" r...</td>\n",
       "      <td>Meet Goliath. He's an example of irony. Head i...</td>\n",
       "      <td>NaN</td>\n",
       "      <td>NaN</td>\n",
       "      <td>NaN</td>\n",
       "      <td>https://twitter.com/dog_rates/status/680161097...</td>\n",
       "      <td>12</td>\n",
       "      <td>10</td>\n",
       "      <td>Goliath</td>\n",
       "      <td>None</td>\n",
       "      <td>None</td>\n",
       "      <td>None</td>\n",
       "      <td>None</td>\n",
       "    </tr>\n",
       "    <tr>\n",
       "      <th>720</th>\n",
       "      <td>783347506784731136</td>\n",
       "      <td>NaN</td>\n",
       "      <td>NaN</td>\n",
       "      <td>2016-10-04 16:46:14 +0000</td>\n",
       "      <td>&lt;a href=\"http://twitter.com/download/iphone\" r...</td>\n",
       "      <td>RT @dog_rates: This is Kenny. He just wants to...</td>\n",
       "      <td>6.742918e+17</td>\n",
       "      <td>4.196984e+09</td>\n",
       "      <td>2015-12-08 18:17:56 +0000</td>\n",
       "      <td>https://twitter.com/dog_rates/status/674291837...</td>\n",
       "      <td>11</td>\n",
       "      <td>10</td>\n",
       "      <td>Kenny</td>\n",
       "      <td>None</td>\n",
       "      <td>None</td>\n",
       "      <td>None</td>\n",
       "      <td>None</td>\n",
       "    </tr>\n",
       "    <tr>\n",
       "      <th>1683</th>\n",
       "      <td>681694085539872773</td>\n",
       "      <td>NaN</td>\n",
       "      <td>NaN</td>\n",
       "      <td>2015-12-29 04:31:49 +0000</td>\n",
       "      <td>&lt;a href=\"http://twitter.com/download/iphone\" r...</td>\n",
       "      <td>This is Bo. He's a Benedoop Cumbersnatch. Seem...</td>\n",
       "      <td>NaN</td>\n",
       "      <td>NaN</td>\n",
       "      <td>NaN</td>\n",
       "      <td>https://twitter.com/dog_rates/status/681694085...</td>\n",
       "      <td>11</td>\n",
       "      <td>10</td>\n",
       "      <td>Bo</td>\n",
       "      <td>None</td>\n",
       "      <td>None</td>\n",
       "      <td>pupper</td>\n",
       "      <td>None</td>\n",
       "    </tr>\n",
       "    <tr>\n",
       "      <th>1948</th>\n",
       "      <td>673697980713705472</td>\n",
       "      <td>NaN</td>\n",
       "      <td>NaN</td>\n",
       "      <td>2015-12-07 02:58:09 +0000</td>\n",
       "      <td>&lt;a href=\"http://twitter.com/download/iphone\" r...</td>\n",
       "      <td>This is Pickles. She's a tiny pointy pupper. A...</td>\n",
       "      <td>NaN</td>\n",
       "      <td>NaN</td>\n",
       "      <td>NaN</td>\n",
       "      <td>https://twitter.com/dog_rates/status/673697980...</td>\n",
       "      <td>8</td>\n",
       "      <td>10</td>\n",
       "      <td>Pickles</td>\n",
       "      <td>None</td>\n",
       "      <td>None</td>\n",
       "      <td>pupper</td>\n",
       "      <td>None</td>\n",
       "    </tr>\n",
       "    <tr>\n",
       "      <th>609</th>\n",
       "      <td>797545162159308800</td>\n",
       "      <td>NaN</td>\n",
       "      <td>NaN</td>\n",
       "      <td>2016-11-12 21:02:38 +0000</td>\n",
       "      <td>&lt;a href=\"http://twitter.com/download/iphone\" r...</td>\n",
       "      <td>This is Cassie. She steals things. Guilt incre...</td>\n",
       "      <td>NaN</td>\n",
       "      <td>NaN</td>\n",
       "      <td>NaN</td>\n",
       "      <td>https://twitter.com/dog_rates/status/797545162...</td>\n",
       "      <td>12</td>\n",
       "      <td>10</td>\n",
       "      <td>Cassie</td>\n",
       "      <td>None</td>\n",
       "      <td>None</td>\n",
       "      <td>None</td>\n",
       "      <td>None</td>\n",
       "    </tr>\n",
       "    <tr>\n",
       "      <th>1127</th>\n",
       "      <td>729838605770891264</td>\n",
       "      <td>7.291135e+17</td>\n",
       "      <td>4.196984e+09</td>\n",
       "      <td>2016-05-10 01:00:58 +0000</td>\n",
       "      <td>&lt;a href=\"http://twitter.com/download/iphone\" r...</td>\n",
       "      <td>\"Challenge completed\" \\n(pupgraded to 12/10) h...</td>\n",
       "      <td>NaN</td>\n",
       "      <td>NaN</td>\n",
       "      <td>NaN</td>\n",
       "      <td>https://twitter.com/dog_rates/status/729838605...</td>\n",
       "      <td>12</td>\n",
       "      <td>10</td>\n",
       "      <td>None</td>\n",
       "      <td>None</td>\n",
       "      <td>None</td>\n",
       "      <td>None</td>\n",
       "      <td>None</td>\n",
       "    </tr>\n",
       "    <tr>\n",
       "      <th>1047</th>\n",
       "      <td>743510151680958465</td>\n",
       "      <td>NaN</td>\n",
       "      <td>NaN</td>\n",
       "      <td>2016-06-16 18:26:48 +0000</td>\n",
       "      <td>&lt;a href=\"http://twitter.com\" rel=\"nofollow\"&gt;Tw...</td>\n",
       "      <td>This is Beya. She doesn't want to swim, so she...</td>\n",
       "      <td>NaN</td>\n",
       "      <td>NaN</td>\n",
       "      <td>NaN</td>\n",
       "      <td>https://twitter.com/dog_rates/status/743510151...</td>\n",
       "      <td>13</td>\n",
       "      <td>10</td>\n",
       "      <td>Beya</td>\n",
       "      <td>None</td>\n",
       "      <td>None</td>\n",
       "      <td>None</td>\n",
       "      <td>None</td>\n",
       "    </tr>\n",
       "    <tr>\n",
       "      <th>1182</th>\n",
       "      <td>718971898235854848</td>\n",
       "      <td>NaN</td>\n",
       "      <td>NaN</td>\n",
       "      <td>2016-04-10 01:20:33 +0000</td>\n",
       "      <td>&lt;a href=\"http://twitter.com/download/iphone\" r...</td>\n",
       "      <td>This is Sadie. She is prepared for battle. 10/...</td>\n",
       "      <td>NaN</td>\n",
       "      <td>NaN</td>\n",
       "      <td>NaN</td>\n",
       "      <td>https://twitter.com/dog_rates/status/718971898...</td>\n",
       "      <td>10</td>\n",
       "      <td>10</td>\n",
       "      <td>Sadie</td>\n",
       "      <td>None</td>\n",
       "      <td>None</td>\n",
       "      <td>None</td>\n",
       "      <td>None</td>\n",
       "    </tr>\n",
       "    <tr>\n",
       "      <th>2168</th>\n",
       "      <td>669354382627049472</td>\n",
       "      <td>NaN</td>\n",
       "      <td>NaN</td>\n",
       "      <td>2015-11-25 03:18:15 +0000</td>\n",
       "      <td>&lt;a href=\"http://twitter.com/download/iphone\" r...</td>\n",
       "      <td>Meet Dug. Dug fucken loves peaches. 8/10 https...</td>\n",
       "      <td>NaN</td>\n",
       "      <td>NaN</td>\n",
       "      <td>NaN</td>\n",
       "      <td>https://twitter.com/dog_rates/status/669354382...</td>\n",
       "      <td>8</td>\n",
       "      <td>10</td>\n",
       "      <td>Dug</td>\n",
       "      <td>None</td>\n",
       "      <td>None</td>\n",
       "      <td>None</td>\n",
       "      <td>None</td>\n",
       "    </tr>\n",
       "    <tr>\n",
       "      <th>2172</th>\n",
       "      <td>669327207240699904</td>\n",
       "      <td>NaN</td>\n",
       "      <td>NaN</td>\n",
       "      <td>2015-11-25 01:30:16 +0000</td>\n",
       "      <td>&lt;a href=\"http://twitter.com/download/iphone\" r...</td>\n",
       "      <td>Just got home from college. Dis my dog. She do...</td>\n",
       "      <td>NaN</td>\n",
       "      <td>NaN</td>\n",
       "      <td>NaN</td>\n",
       "      <td>https://twitter.com/dog_rates/status/669327207...</td>\n",
       "      <td>13</td>\n",
       "      <td>10</td>\n",
       "      <td>None</td>\n",
       "      <td>None</td>\n",
       "      <td>None</td>\n",
       "      <td>None</td>\n",
       "      <td>None</td>\n",
       "    </tr>\n",
       "  </tbody>\n",
       "</table>\n",
       "</div>"
      ],
      "text/plain": [
       "                tweet_id  in_reply_to_status_id  in_reply_to_user_id  \\\n",
       "1719  680161097740095489                    NaN                  NaN   \n",
       "720   783347506784731136                    NaN                  NaN   \n",
       "1683  681694085539872773                    NaN                  NaN   \n",
       "1948  673697980713705472                    NaN                  NaN   \n",
       "609   797545162159308800                    NaN                  NaN   \n",
       "1127  729838605770891264           7.291135e+17         4.196984e+09   \n",
       "1047  743510151680958465                    NaN                  NaN   \n",
       "1182  718971898235854848                    NaN                  NaN   \n",
       "2168  669354382627049472                    NaN                  NaN   \n",
       "2172  669327207240699904                    NaN                  NaN   \n",
       "\n",
       "                      timestamp  \\\n",
       "1719  2015-12-24 23:00:17 +0000   \n",
       "720   2016-10-04 16:46:14 +0000   \n",
       "1683  2015-12-29 04:31:49 +0000   \n",
       "1948  2015-12-07 02:58:09 +0000   \n",
       "609   2016-11-12 21:02:38 +0000   \n",
       "1127  2016-05-10 01:00:58 +0000   \n",
       "1047  2016-06-16 18:26:48 +0000   \n",
       "1182  2016-04-10 01:20:33 +0000   \n",
       "2168  2015-11-25 03:18:15 +0000   \n",
       "2172  2015-11-25 01:30:16 +0000   \n",
       "\n",
       "                                                 source  \\\n",
       "1719  <a href=\"http://twitter.com/download/iphone\" r...   \n",
       "720   <a href=\"http://twitter.com/download/iphone\" r...   \n",
       "1683  <a href=\"http://twitter.com/download/iphone\" r...   \n",
       "1948  <a href=\"http://twitter.com/download/iphone\" r...   \n",
       "609   <a href=\"http://twitter.com/download/iphone\" r...   \n",
       "1127  <a href=\"http://twitter.com/download/iphone\" r...   \n",
       "1047  <a href=\"http://twitter.com\" rel=\"nofollow\">Tw...   \n",
       "1182  <a href=\"http://twitter.com/download/iphone\" r...   \n",
       "2168  <a href=\"http://twitter.com/download/iphone\" r...   \n",
       "2172  <a href=\"http://twitter.com/download/iphone\" r...   \n",
       "\n",
       "                                                   text  retweeted_status_id  \\\n",
       "1719  Meet Goliath. He's an example of irony. Head i...                  NaN   \n",
       "720   RT @dog_rates: This is Kenny. He just wants to...         6.742918e+17   \n",
       "1683  This is Bo. He's a Benedoop Cumbersnatch. Seem...                  NaN   \n",
       "1948  This is Pickles. She's a tiny pointy pupper. A...                  NaN   \n",
       "609   This is Cassie. She steals things. Guilt incre...                  NaN   \n",
       "1127  \"Challenge completed\" \\n(pupgraded to 12/10) h...                  NaN   \n",
       "1047  This is Beya. She doesn't want to swim, so she...                  NaN   \n",
       "1182  This is Sadie. She is prepared for battle. 10/...                  NaN   \n",
       "2168  Meet Dug. Dug fucken loves peaches. 8/10 https...                  NaN   \n",
       "2172  Just got home from college. Dis my dog. She do...                  NaN   \n",
       "\n",
       "      retweeted_status_user_id retweeted_status_timestamp  \\\n",
       "1719                       NaN                        NaN   \n",
       "720               4.196984e+09  2015-12-08 18:17:56 +0000   \n",
       "1683                       NaN                        NaN   \n",
       "1948                       NaN                        NaN   \n",
       "609                        NaN                        NaN   \n",
       "1127                       NaN                        NaN   \n",
       "1047                       NaN                        NaN   \n",
       "1182                       NaN                        NaN   \n",
       "2168                       NaN                        NaN   \n",
       "2172                       NaN                        NaN   \n",
       "\n",
       "                                          expanded_urls  rating_numerator  \\\n",
       "1719  https://twitter.com/dog_rates/status/680161097...                12   \n",
       "720   https://twitter.com/dog_rates/status/674291837...                11   \n",
       "1683  https://twitter.com/dog_rates/status/681694085...                11   \n",
       "1948  https://twitter.com/dog_rates/status/673697980...                 8   \n",
       "609   https://twitter.com/dog_rates/status/797545162...                12   \n",
       "1127  https://twitter.com/dog_rates/status/729838605...                12   \n",
       "1047  https://twitter.com/dog_rates/status/743510151...                13   \n",
       "1182  https://twitter.com/dog_rates/status/718971898...                10   \n",
       "2168  https://twitter.com/dog_rates/status/669354382...                 8   \n",
       "2172  https://twitter.com/dog_rates/status/669327207...                13   \n",
       "\n",
       "      rating_denominator     name doggo floofer  pupper puppo  \n",
       "1719                  10  Goliath  None    None    None  None  \n",
       "720                   10    Kenny  None    None    None  None  \n",
       "1683                  10       Bo  None    None  pupper  None  \n",
       "1948                  10  Pickles  None    None  pupper  None  \n",
       "609                   10   Cassie  None    None    None  None  \n",
       "1127                  10     None  None    None    None  None  \n",
       "1047                  10     Beya  None    None    None  None  \n",
       "1182                  10    Sadie  None    None    None  None  \n",
       "2168                  10      Dug  None    None    None  None  \n",
       "2172                  10     None  None    None    None  None  "
      ]
     },
     "execution_count": 5,
     "metadata": {},
     "output_type": "execute_result"
    }
   ],
   "source": [
    "archive_df.sample(10) # exploring the dataframe"
   ]
  },
  {
   "cell_type": "code",
   "execution_count": 6,
   "metadata": {},
   "outputs": [
    {
     "data": {
      "text/plain": [
       "0"
      ]
     },
     "execution_count": 6,
     "metadata": {},
     "output_type": "execute_result"
    }
   ],
   "source": [
    "sum(archive_df.tweet_id.duplicated()) # checking for duplicate tweets"
   ]
  },
  {
   "cell_type": "code",
   "execution_count": 7,
   "metadata": {},
   "outputs": [
    {
     "data": {
      "text/html": [
       "<div>\n",
       "<style scoped>\n",
       "    .dataframe tbody tr th:only-of-type {\n",
       "        vertical-align: middle;\n",
       "    }\n",
       "\n",
       "    .dataframe tbody tr th {\n",
       "        vertical-align: top;\n",
       "    }\n",
       "\n",
       "    .dataframe thead th {\n",
       "        text-align: right;\n",
       "    }\n",
       "</style>\n",
       "<table border=\"1\" class=\"dataframe\">\n",
       "  <thead>\n",
       "    <tr style=\"text-align: right;\">\n",
       "      <th></th>\n",
       "      <th>tweet_id</th>\n",
       "      <th>in_reply_to_status_id</th>\n",
       "      <th>in_reply_to_user_id</th>\n",
       "      <th>timestamp</th>\n",
       "      <th>source</th>\n",
       "      <th>text</th>\n",
       "      <th>retweeted_status_id</th>\n",
       "      <th>retweeted_status_user_id</th>\n",
       "      <th>retweeted_status_timestamp</th>\n",
       "      <th>expanded_urls</th>\n",
       "      <th>rating_numerator</th>\n",
       "      <th>rating_denominator</th>\n",
       "      <th>name</th>\n",
       "      <th>doggo</th>\n",
       "      <th>floofer</th>\n",
       "      <th>pupper</th>\n",
       "      <th>puppo</th>\n",
       "    </tr>\n",
       "  </thead>\n",
       "  <tbody>\n",
       "    <tr>\n",
       "      <th>313</th>\n",
       "      <td>835246439529840640</td>\n",
       "      <td>8.352460e+17</td>\n",
       "      <td>26259576.0</td>\n",
       "      <td>2017-02-24 21:54:03 +0000</td>\n",
       "      <td>&lt;a href=\"http://twitter.com/download/iphone\" r...</td>\n",
       "      <td>@jonnysun @Lin_Manuel ok jomny I know you're e...</td>\n",
       "      <td>NaN</td>\n",
       "      <td>NaN</td>\n",
       "      <td>NaN</td>\n",
       "      <td>NaN</td>\n",
       "      <td>960</td>\n",
       "      <td>0</td>\n",
       "      <td>None</td>\n",
       "      <td>None</td>\n",
       "      <td>None</td>\n",
       "      <td>None</td>\n",
       "      <td>None</td>\n",
       "    </tr>\n",
       "  </tbody>\n",
       "</table>\n",
       "</div>"
      ],
      "text/plain": [
       "               tweet_id  in_reply_to_status_id  in_reply_to_user_id  \\\n",
       "313  835246439529840640           8.352460e+17           26259576.0   \n",
       "\n",
       "                     timestamp  \\\n",
       "313  2017-02-24 21:54:03 +0000   \n",
       "\n",
       "                                                source  \\\n",
       "313  <a href=\"http://twitter.com/download/iphone\" r...   \n",
       "\n",
       "                                                  text  retweeted_status_id  \\\n",
       "313  @jonnysun @Lin_Manuel ok jomny I know you're e...                  NaN   \n",
       "\n",
       "     retweeted_status_user_id retweeted_status_timestamp expanded_urls  \\\n",
       "313                       NaN                        NaN           NaN   \n",
       "\n",
       "     rating_numerator  rating_denominator  name doggo floofer pupper puppo  \n",
       "313               960                   0  None  None    None   None  None  "
      ]
     },
     "execution_count": 7,
     "metadata": {},
     "output_type": "execute_result"
    }
   ],
   "source": [
    "# checking tweets with no ratings\n",
    "archive_df[archive_df.rating_numerator == 0] \n",
    "archive_df[archive_df.rating_denominator == 0]"
   ]
  },
  {
   "cell_type": "code",
   "execution_count": 8,
   "metadata": {},
   "outputs": [
    {
     "data": {
      "text/plain": [
       "2175"
      ]
     },
     "execution_count": 8,
     "metadata": {},
     "output_type": "execute_result"
    }
   ],
   "source": [
    "archive_df.retweeted_status_id.isnull().sum() # checking presence of retweets"
   ]
  },
  {
   "cell_type": "markdown",
   "metadata": {},
   "source": [
    "### `image_predictions_df`"
   ]
  },
  {
   "cell_type": "code",
   "execution_count": 9,
   "metadata": {},
   "outputs": [
    {
     "data": {
      "text/html": [
       "<div>\n",
       "<style scoped>\n",
       "    .dataframe tbody tr th:only-of-type {\n",
       "        vertical-align: middle;\n",
       "    }\n",
       "\n",
       "    .dataframe tbody tr th {\n",
       "        vertical-align: top;\n",
       "    }\n",
       "\n",
       "    .dataframe thead th {\n",
       "        text-align: right;\n",
       "    }\n",
       "</style>\n",
       "<table border=\"1\" class=\"dataframe\">\n",
       "  <thead>\n",
       "    <tr style=\"text-align: right;\">\n",
       "      <th></th>\n",
       "      <th>tweet_id</th>\n",
       "      <th>jpg_url</th>\n",
       "      <th>img_num</th>\n",
       "      <th>p1</th>\n",
       "      <th>p1_conf</th>\n",
       "      <th>p1_dog</th>\n",
       "      <th>p2</th>\n",
       "      <th>p2_conf</th>\n",
       "      <th>p2_dog</th>\n",
       "      <th>p3</th>\n",
       "      <th>p3_conf</th>\n",
       "      <th>p3_dog</th>\n",
       "    </tr>\n",
       "  </thead>\n",
       "  <tbody>\n",
       "    <tr>\n",
       "      <th>1210</th>\n",
       "      <td>742465774154047488</td>\n",
       "      <td>https://pbs.twimg.com/media/Ck3EribXEAAPhZn.jpg</td>\n",
       "      <td>1</td>\n",
       "      <td>web_site</td>\n",
       "      <td>0.997154</td>\n",
       "      <td>False</td>\n",
       "      <td>comic_book</td>\n",
       "      <td>0.000439</td>\n",
       "      <td>False</td>\n",
       "      <td>desktop_computer</td>\n",
       "      <td>0.000268</td>\n",
       "      <td>False</td>\n",
       "    </tr>\n",
       "    <tr>\n",
       "      <th>2016</th>\n",
       "      <td>879862464715927552</td>\n",
       "      <td>https://pbs.twimg.com/media/DDXmPrbWAAEKMvy.jpg</td>\n",
       "      <td>3</td>\n",
       "      <td>basset</td>\n",
       "      <td>0.813507</td>\n",
       "      <td>True</td>\n",
       "      <td>beagle</td>\n",
       "      <td>0.146654</td>\n",
       "      <td>True</td>\n",
       "      <td>cocker_spaniel</td>\n",
       "      <td>0.009485</td>\n",
       "      <td>True</td>\n",
       "    </tr>\n",
       "    <tr>\n",
       "      <th>741</th>\n",
       "      <td>687317306314240000</td>\n",
       "      <td>https://pbs.twimg.com/media/CYnXcLEUkAAIQOM.jpg</td>\n",
       "      <td>1</td>\n",
       "      <td>Shih-Tzu</td>\n",
       "      <td>0.747208</td>\n",
       "      <td>True</td>\n",
       "      <td>Maltese_dog</td>\n",
       "      <td>0.091025</td>\n",
       "      <td>True</td>\n",
       "      <td>Lhasa</td>\n",
       "      <td>0.035788</td>\n",
       "      <td>True</td>\n",
       "    </tr>\n",
       "    <tr>\n",
       "      <th>1161</th>\n",
       "      <td>734787690684657664</td>\n",
       "      <td>https://pbs.twimg.com/media/CjJ9gQ1WgAAXQtJ.jpg</td>\n",
       "      <td>4</td>\n",
       "      <td>golden_retriever</td>\n",
       "      <td>0.883991</td>\n",
       "      <td>True</td>\n",
       "      <td>chow</td>\n",
       "      <td>0.023542</td>\n",
       "      <td>True</td>\n",
       "      <td>Labrador_retriever</td>\n",
       "      <td>0.016056</td>\n",
       "      <td>True</td>\n",
       "    </tr>\n",
       "    <tr>\n",
       "      <th>13</th>\n",
       "      <td>666082916733198337</td>\n",
       "      <td>https://pbs.twimg.com/media/CT5m4VGWEAAtKc8.jpg</td>\n",
       "      <td>1</td>\n",
       "      <td>pug</td>\n",
       "      <td>0.489814</td>\n",
       "      <td>True</td>\n",
       "      <td>bull_mastiff</td>\n",
       "      <td>0.404722</td>\n",
       "      <td>True</td>\n",
       "      <td>French_bulldog</td>\n",
       "      <td>0.048960</td>\n",
       "      <td>True</td>\n",
       "    </tr>\n",
       "    <tr>\n",
       "      <th>140</th>\n",
       "      <td>668544745690562560</td>\n",
       "      <td>https://pbs.twimg.com/media/CUcl5jeWsAA6ufS.jpg</td>\n",
       "      <td>1</td>\n",
       "      <td>bearskin</td>\n",
       "      <td>0.427870</td>\n",
       "      <td>False</td>\n",
       "      <td>bow</td>\n",
       "      <td>0.258858</td>\n",
       "      <td>False</td>\n",
       "      <td>panpipe</td>\n",
       "      <td>0.021563</td>\n",
       "      <td>False</td>\n",
       "    </tr>\n",
       "    <tr>\n",
       "      <th>1903</th>\n",
       "      <td>851953902622658560</td>\n",
       "      <td>https://pbs.twimg.com/media/C4KHj-nWQAA3poV.jpg</td>\n",
       "      <td>1</td>\n",
       "      <td>Staffordshire_bullterrier</td>\n",
       "      <td>0.757547</td>\n",
       "      <td>True</td>\n",
       "      <td>American_Staffordshire_terrier</td>\n",
       "      <td>0.149950</td>\n",
       "      <td>True</td>\n",
       "      <td>Chesapeake_Bay_retriever</td>\n",
       "      <td>0.047523</td>\n",
       "      <td>True</td>\n",
       "    </tr>\n",
       "    <tr>\n",
       "      <th>1980</th>\n",
       "      <td>871032628920680449</td>\n",
       "      <td>https://pbs.twimg.com/media/DBaHi3YXgAE6knM.jpg</td>\n",
       "      <td>1</td>\n",
       "      <td>kelpie</td>\n",
       "      <td>0.398053</td>\n",
       "      <td>True</td>\n",
       "      <td>macaque</td>\n",
       "      <td>0.068955</td>\n",
       "      <td>False</td>\n",
       "      <td>dingo</td>\n",
       "      <td>0.050602</td>\n",
       "      <td>False</td>\n",
       "    </tr>\n",
       "    <tr>\n",
       "      <th>1190</th>\n",
       "      <td>739844404073074688</td>\n",
       "      <td>https://pbs.twimg.com/media/CkR0jrhWYAALL5N.jpg</td>\n",
       "      <td>1</td>\n",
       "      <td>toy_poodle</td>\n",
       "      <td>0.342397</td>\n",
       "      <td>True</td>\n",
       "      <td>table_lamp</td>\n",
       "      <td>0.104451</td>\n",
       "      <td>False</td>\n",
       "      <td>miniature_poodle</td>\n",
       "      <td>0.079871</td>\n",
       "      <td>True</td>\n",
       "    </tr>\n",
       "    <tr>\n",
       "      <th>690</th>\n",
       "      <td>684195085588783105</td>\n",
       "      <td>https://pbs.twimg.com/media/CX6_y6OU0AAl3v2.jpg</td>\n",
       "      <td>1</td>\n",
       "      <td>Chihuahua</td>\n",
       "      <td>0.379365</td>\n",
       "      <td>True</td>\n",
       "      <td>toy_terrier</td>\n",
       "      <td>0.121809</td>\n",
       "      <td>True</td>\n",
       "      <td>Boston_bull</td>\n",
       "      <td>0.095981</td>\n",
       "      <td>True</td>\n",
       "    </tr>\n",
       "  </tbody>\n",
       "</table>\n",
       "</div>"
      ],
      "text/plain": [
       "                tweet_id                                          jpg_url  \\\n",
       "1210  742465774154047488  https://pbs.twimg.com/media/Ck3EribXEAAPhZn.jpg   \n",
       "2016  879862464715927552  https://pbs.twimg.com/media/DDXmPrbWAAEKMvy.jpg   \n",
       "741   687317306314240000  https://pbs.twimg.com/media/CYnXcLEUkAAIQOM.jpg   \n",
       "1161  734787690684657664  https://pbs.twimg.com/media/CjJ9gQ1WgAAXQtJ.jpg   \n",
       "13    666082916733198337  https://pbs.twimg.com/media/CT5m4VGWEAAtKc8.jpg   \n",
       "140   668544745690562560  https://pbs.twimg.com/media/CUcl5jeWsAA6ufS.jpg   \n",
       "1903  851953902622658560  https://pbs.twimg.com/media/C4KHj-nWQAA3poV.jpg   \n",
       "1980  871032628920680449  https://pbs.twimg.com/media/DBaHi3YXgAE6knM.jpg   \n",
       "1190  739844404073074688  https://pbs.twimg.com/media/CkR0jrhWYAALL5N.jpg   \n",
       "690   684195085588783105  https://pbs.twimg.com/media/CX6_y6OU0AAl3v2.jpg   \n",
       "\n",
       "      img_num                         p1   p1_conf  p1_dog  \\\n",
       "1210        1                   web_site  0.997154   False   \n",
       "2016        3                     basset  0.813507    True   \n",
       "741         1                   Shih-Tzu  0.747208    True   \n",
       "1161        4           golden_retriever  0.883991    True   \n",
       "13          1                        pug  0.489814    True   \n",
       "140         1                   bearskin  0.427870   False   \n",
       "1903        1  Staffordshire_bullterrier  0.757547    True   \n",
       "1980        1                     kelpie  0.398053    True   \n",
       "1190        1                 toy_poodle  0.342397    True   \n",
       "690         1                  Chihuahua  0.379365    True   \n",
       "\n",
       "                                  p2   p2_conf  p2_dog  \\\n",
       "1210                      comic_book  0.000439   False   \n",
       "2016                          beagle  0.146654    True   \n",
       "741                      Maltese_dog  0.091025    True   \n",
       "1161                            chow  0.023542    True   \n",
       "13                      bull_mastiff  0.404722    True   \n",
       "140                              bow  0.258858   False   \n",
       "1903  American_Staffordshire_terrier  0.149950    True   \n",
       "1980                         macaque  0.068955   False   \n",
       "1190                      table_lamp  0.104451   False   \n",
       "690                      toy_terrier  0.121809    True   \n",
       "\n",
       "                            p3   p3_conf  p3_dog  \n",
       "1210          desktop_computer  0.000268   False  \n",
       "2016            cocker_spaniel  0.009485    True  \n",
       "741                      Lhasa  0.035788    True  \n",
       "1161        Labrador_retriever  0.016056    True  \n",
       "13              French_bulldog  0.048960    True  \n",
       "140                    panpipe  0.021563   False  \n",
       "1903  Chesapeake_Bay_retriever  0.047523    True  \n",
       "1980                     dingo  0.050602   False  \n",
       "1190          miniature_poodle  0.079871    True  \n",
       "690                Boston_bull  0.095981    True  "
      ]
     },
     "execution_count": 9,
     "metadata": {},
     "output_type": "execute_result"
    }
   ],
   "source": [
    "image_predictions_df.sample(10)"
   ]
  },
  {
   "cell_type": "code",
   "execution_count": 10,
   "metadata": {},
   "outputs": [
    {
     "name": "stdout",
     "output_type": "stream",
     "text": [
      "<class 'pandas.core.frame.DataFrame'>\n",
      "RangeIndex: 2075 entries, 0 to 2074\n",
      "Data columns (total 12 columns):\n",
      " #   Column    Non-Null Count  Dtype  \n",
      "---  ------    --------------  -----  \n",
      " 0   tweet_id  2075 non-null   int64  \n",
      " 1   jpg_url   2075 non-null   object \n",
      " 2   img_num   2075 non-null   int64  \n",
      " 3   p1        2075 non-null   object \n",
      " 4   p1_conf   2075 non-null   float64\n",
      " 5   p1_dog    2075 non-null   bool   \n",
      " 6   p2        2075 non-null   object \n",
      " 7   p2_conf   2075 non-null   float64\n",
      " 8   p2_dog    2075 non-null   bool   \n",
      " 9   p3        2075 non-null   object \n",
      " 10  p3_conf   2075 non-null   float64\n",
      " 11  p3_dog    2075 non-null   bool   \n",
      "dtypes: bool(3), float64(3), int64(2), object(4)\n",
      "memory usage: 152.1+ KB\n"
     ]
    }
   ],
   "source": [
    "image_predictions_df.info()"
   ]
  },
  {
   "cell_type": "code",
   "execution_count": 11,
   "metadata": {},
   "outputs": [
    {
     "data": {
      "text/plain": [
       "0"
      ]
     },
     "execution_count": 11,
     "metadata": {},
     "output_type": "execute_result"
    }
   ],
   "source": [
    "sum(image_predictions_df.tweet_id.duplicated()) # checking for duplicate tweets"
   ]
  },
  {
   "cell_type": "markdown",
   "metadata": {},
   "source": [
    "### `api_df`"
   ]
  },
  {
   "cell_type": "code",
   "execution_count": 12,
   "metadata": {},
   "outputs": [
    {
     "data": {
      "text/html": [
       "<div>\n",
       "<style scoped>\n",
       "    .dataframe tbody tr th:only-of-type {\n",
       "        vertical-align: middle;\n",
       "    }\n",
       "\n",
       "    .dataframe tbody tr th {\n",
       "        vertical-align: top;\n",
       "    }\n",
       "\n",
       "    .dataframe thead th {\n",
       "        text-align: right;\n",
       "    }\n",
       "</style>\n",
       "<table border=\"1\" class=\"dataframe\">\n",
       "  <thead>\n",
       "    <tr style=\"text-align: right;\">\n",
       "      <th></th>\n",
       "      <th>tweet_id</th>\n",
       "      <th>retweet_count</th>\n",
       "      <th>favorite_count</th>\n",
       "    </tr>\n",
       "  </thead>\n",
       "  <tbody>\n",
       "    <tr>\n",
       "      <th>180</th>\n",
       "      <td>829449946868879360</td>\n",
       "      <td>2329</td>\n",
       "      <td>11519</td>\n",
       "    </tr>\n",
       "    <tr>\n",
       "      <th>758</th>\n",
       "      <td>690735892932222976</td>\n",
       "      <td>1442</td>\n",
       "      <td>4134</td>\n",
       "    </tr>\n",
       "    <tr>\n",
       "      <th>253</th>\n",
       "      <td>812503143955202048</td>\n",
       "      <td>1424</td>\n",
       "      <td>6787</td>\n",
       "    </tr>\n",
       "    <tr>\n",
       "      <th>764</th>\n",
       "      <td>690015576308211712</td>\n",
       "      <td>836</td>\n",
       "      <td>2740</td>\n",
       "    </tr>\n",
       "    <tr>\n",
       "      <th>937</th>\n",
       "      <td>675109292475830276</td>\n",
       "      <td>1259</td>\n",
       "      <td>3006</td>\n",
       "    </tr>\n",
       "    <tr>\n",
       "      <th>495</th>\n",
       "      <td>748575535303884801</td>\n",
       "      <td>2272</td>\n",
       "      <td>6696</td>\n",
       "    </tr>\n",
       "    <tr>\n",
       "      <th>826</th>\n",
       "      <td>683391852557561860</td>\n",
       "      <td>2702</td>\n",
       "      <td>8356</td>\n",
       "    </tr>\n",
       "    <tr>\n",
       "      <th>973</th>\n",
       "      <td>673689733134946305</td>\n",
       "      <td>700</td>\n",
       "      <td>1855</td>\n",
       "    </tr>\n",
       "    <tr>\n",
       "      <th>243</th>\n",
       "      <td>813944609378369540</td>\n",
       "      <td>3732</td>\n",
       "      <td>0</td>\n",
       "    </tr>\n",
       "    <tr>\n",
       "      <th>895</th>\n",
       "      <td>677331501395156992</td>\n",
       "      <td>265</td>\n",
       "      <td>1189</td>\n",
       "    </tr>\n",
       "  </tbody>\n",
       "</table>\n",
       "</div>"
      ],
      "text/plain": [
       "               tweet_id  retweet_count  favorite_count\n",
       "180  829449946868879360           2329           11519\n",
       "758  690735892932222976           1442            4134\n",
       "253  812503143955202048           1424            6787\n",
       "764  690015576308211712            836            2740\n",
       "937  675109292475830276           1259            3006\n",
       "495  748575535303884801           2272            6696\n",
       "826  683391852557561860           2702            8356\n",
       "973  673689733134946305            700            1855\n",
       "243  813944609378369540           3732               0\n",
       "895  677331501395156992            265            1189"
      ]
     },
     "execution_count": 12,
     "metadata": {},
     "output_type": "execute_result"
    }
   ],
   "source": [
    "api_df.sample(10)"
   ]
  },
  {
   "cell_type": "code",
   "execution_count": 13,
   "metadata": {},
   "outputs": [
    {
     "name": "stdout",
     "output_type": "stream",
     "text": [
      "<class 'pandas.core.frame.DataFrame'>\n",
      "RangeIndex: 1177 entries, 0 to 1176\n",
      "Data columns (total 3 columns):\n",
      " #   Column          Non-Null Count  Dtype\n",
      "---  ------          --------------  -----\n",
      " 0   tweet_id        1177 non-null   int64\n",
      " 1   retweet_count   1177 non-null   int64\n",
      " 2   favorite_count  1177 non-null   int64\n",
      "dtypes: int64(3)\n",
      "memory usage: 27.7 KB\n"
     ]
    }
   ],
   "source": [
    "api_df.info()"
   ]
  },
  {
   "cell_type": "code",
   "execution_count": 14,
   "metadata": {},
   "outputs": [
    {
     "data": {
      "text/plain": [
       "0"
      ]
     },
     "execution_count": 14,
     "metadata": {},
     "output_type": "execute_result"
    }
   ],
   "source": [
    "sum(api_df.tweet_id.duplicated()) # checking for duplicate tweets"
   ]
  },
  {
   "cell_type": "markdown",
   "metadata": {},
   "source": [
    "### Quality issues\n",
    "\n",
    "- Missing dog classification observations are stored as `None`\n",
    "- Dog classification is not mutually exclusive\n",
    "- `tweet_id` variable is stored as integer instead of string\n",
    "- `source` variable values of urls is surrounded by tags\n",
    "- `timestamp` variable is stored as  string instead of datetime\n",
    "- `name` variable contains a number of wrong entries (`all`, `some`, ... etc)\n",
    "- Data contains retweets and replies and not just original tweets\n",
    "- Data contains tweets with no images\n",
    "- `name` variable contains the value `none` to represent missing values\n",
    "- The 4 dummy dog classification variables (`doggo`, `floofer`, `pupper`, `puppo`) are not mutually exclusive\n",
    "- Fix `rating_numerator` column values\n",
    "\n",
    "### Tidiness issues:\n",
    "- Dog classification values are present in column headers i\n",
    "- Image prediction algorithm values are present in the column headers \n",
    "- Tweets observations are stored in multiple tables\n"
   ]
  },
  {
   "cell_type": "markdown",
   "metadata": {},
   "source": [
    "## 3- Clean"
   ]
  },
  {
   "cell_type": "code",
   "execution_count": 6,
   "metadata": {},
   "outputs": [],
   "source": [
    "# Make copies of the dataframes\n",
    "archive_df_clean = archive_df.copy()\n",
    "image_predictions_df_clean = image_predictions_df.copy()\n",
    "api_df_clean = api_df.copy()"
   ]
  },
  {
   "cell_type": "markdown",
   "metadata": {},
   "source": [
    "### Define:\n",
    "- Store values of columns headers in `image_predictions_df` in variables \n",
    "- Replace `None` values with `NaN` or empty strings in dog classification variables\n",
    "- Combine the 4 dummy dog classification variables (doggo, floofer, pupper, puppo) to one `dog_class` variable and fix rows with multiple dog classification\n",
    "- Convert `tweet_id` variable type to string in all dataframes to prepare for data merge\n",
    "- Remove extra tags in `source` variable\n",
    "- Fix non-capitalized and erroneous entries in `name` variable\n",
    "- Merge all three datasets on `tweet_id`and make a clean copy of the dataframe\n",
    "- Identify and remove retweets from the master dataframe and tweets without photos\n",
    "- Convert `timestamp` variable type to `datetime`"
   ]
  },
  {
   "cell_type": "markdown",
   "metadata": {},
   "source": [
    "### Code:"
   ]
  },
  {
   "cell_type": "code",
   "execution_count": 7,
   "metadata": {},
   "outputs": [
    {
     "name": "stdout",
     "output_type": "stream",
     "text": [
      "<class 'pandas.core.frame.DataFrame'>\n",
      "RangeIndex: 6225 entries, 0 to 6224\n",
      "Data columns (total 7 columns):\n",
      " #   Column      Non-Null Count  Dtype  \n",
      "---  ------      --------------  -----  \n",
      " 0   tweet_id    6225 non-null   int64  \n",
      " 1   algorithm   6225 non-null   int64  \n",
      " 2   jpg_url     6225 non-null   object \n",
      " 3   img_num     6225 non-null   int64  \n",
      " 4   confidence  6225 non-null   float64\n",
      " 5   dog         6225 non-null   bool   \n",
      " 6   breed       6225 non-null   object \n",
      "dtypes: bool(1), float64(1), int64(3), object(2)\n",
      "memory usage: 298.0+ KB\n"
     ]
    }
   ],
   "source": [
    "# Store values of columns headers in `image_predictions_df` in variables \n",
    "image_predictions_df_clean.rename(columns = {'p1_conf': 'confidence1',\n",
    "                                 'p2_conf': 'confidence2',\n",
    "                                 'p3_conf': 'confidence3',\n",
    "                                 'p1_dog': 'dog1',\n",
    "                                 'p1_dog': 'dog1',\n",
    "                                 'p2_dog': 'dog2',\n",
    "                                 'p3_dog': 'dog3',\n",
    "                                 'p1': 'breed1',\n",
    "                                 'p2': 'breed2',\n",
    "                                 'p3': 'breed3'}, inplace=True) # rename columns to prep for reshape\n",
    "image_predictions_df_clean = pd.wide_to_long(image_predictions_df_clean, stubnames=['confidence', 'dog', 'breed'], i='tweet_id', j='algorithm').reset_index()\n",
    "image_predictions_df_clean.info()"
   ]
  },
  {
   "cell_type": "code",
   "execution_count": 8,
   "metadata": {},
   "outputs": [],
   "source": [
    "# Replace `None` values with `NaN` or empty strings in dog classification variables\n",
    "for var in ['doggo', 'pupper', 'puppo', 'floofer']:\n",
    "    archive_df_clean[var].replace('None', '', inplace = True)"
   ]
  },
  {
   "cell_type": "code",
   "execution_count": 9,
   "metadata": {},
   "outputs": [],
   "source": [
    "# Combine the 4 dummy dog classification variables (doggo, floofer, pupper, puppo) to one `dog_class` variable\n",
    "archive_df_clean['dog_class'] = archive_df_clean.doggo.astype(str) + archive_df_clean.floofer.astype(str) + archive_df_clean.pupper.astype(str) + archive_df_clean.puppo.astype(str)\n",
    "archive_df_clean = archive_df_clean.drop(['doggo', 'pupper', 'puppo', 'floofer'], axis = 1) # remove redundant dog classification dummy variables\n",
    "\n",
    "# Fix rows with multiple dog classification\n",
    "archive_df_clean['dog_class'].replace('doggopupper', '', inplace = True)\n",
    "archive_df_clean['dog_class'].replace('doggopuppo', '', inplace = True)\n",
    "archive_df_clean['dog_class'].replace('doggofloofer', '', inplace = True)\n",
    "archive_df_clean['dog_class'].replace('', np.nan, inplace = True)"
   ]
  },
  {
   "cell_type": "code",
   "execution_count": 10,
   "metadata": {},
   "outputs": [],
   "source": [
    "# Convert `tweet_id` variable type to string in all dataframes\n",
    "dfs_clean = [archive_df_clean, image_predictions_df_clean, api_df_clean]\n",
    "for df in dfs_clean:\n",
    "    df['tweet_id'] = df['tweet_id'].astype(str)"
   ]
  },
  {
   "cell_type": "code",
   "execution_count": 11,
   "metadata": {},
   "outputs": [],
   "source": [
    "# Remove extra tags in `source` variable\n",
    "archive_df_clean['tweet_source'] = archive_df_clean['source'].apply(lambda x: BeautifulSoup(x).get_text())\n",
    "archive_df_clean.drop('source', axis = 1, inplace = True)"
   ]
  },
  {
   "cell_type": "code",
   "execution_count": 12,
   "metadata": {},
   "outputs": [],
   "source": [
    "# Fix `rating_numerator` column values\n",
    "archive_df_clean['rating_numerator'] = archive_df_clean.text.str.extract('(\\d+\\.?\\d?\\d?)\\/\\d{1,3}', expand = False).astype('float')"
   ]
  },
  {
   "cell_type": "code",
   "execution_count": 13,
   "metadata": {},
   "outputs": [],
   "source": [
    "# Fix non-capitalized and erroneous entries in `name` variable\n",
    "archive_df_clean['name'].replace('None', '', inplace = True) # replace `None` values to empty string to represent missing values\n",
    "archive_df_clean['name'] = archive_df_clean['name'].apply(lambda x: x.title()) # capitalize name values"
   ]
  },
  {
   "cell_type": "code",
   "execution_count": 14,
   "metadata": {},
   "outputs": [],
   "source": [
    "# Merge all three datasets on tweet_id and make a clean copy of the dataframe\n",
    "master_df1 = pd.merge(image_predictions_df_clean, archive_df_clean, on = 'tweet_id', how = 'left')\n",
    "master_df = pd.merge(master_df1, api_df_clean, on = 'tweet_id', how = 'left')\n",
    "master_df_clean = master_df.copy()"
   ]
  },
  {
   "cell_type": "code",
   "execution_count": 15,
   "metadata": {},
   "outputs": [],
   "source": [
    "# Identify and remove retweets and replies and drop unwanted retweets and replies columns and tweets without photos\n",
    "master_df_clean = master_df_clean.query('retweeted_status_id == \"NaN\"') # remove retweets\n",
    "master_df_clean = master_df_clean.query('in_reply_to_status_id == \"NaN\"').drop(['retweeted_status_id', 'retweeted_status_user_id', 'retweeted_status_timestamp', 'in_reply_to_status_id', 'in_reply_to_user_id'], axis = 1) # filter out replies and remove their relevant variables"
   ]
  },
  {
   "cell_type": "code",
   "execution_count": 16,
   "metadata": {},
   "outputs": [],
   "source": [
    "# Convert `timestamp` variable type to datetime\n",
    "master_df_clean.timestamp = pd.to_datetime(master_df_clean.timestamp)"
   ]
  },
  {
   "cell_type": "markdown",
   "metadata": {},
   "source": [
    "### Test:"
   ]
  },
  {
   "cell_type": "code",
   "execution_count": 17,
   "metadata": {},
   "outputs": [
    {
     "name": "stdout",
     "output_type": "stream",
     "text": [
      "<class 'pandas.core.frame.DataFrame'>\n",
      "RangeIndex: 6225 entries, 0 to 6224\n",
      "Data columns (total 7 columns):\n",
      " #   Column      Non-Null Count  Dtype  \n",
      "---  ------      --------------  -----  \n",
      " 0   tweet_id    6225 non-null   object \n",
      " 1   algorithm   6225 non-null   int64  \n",
      " 2   jpg_url     6225 non-null   object \n",
      " 3   img_num     6225 non-null   int64  \n",
      " 4   confidence  6225 non-null   float64\n",
      " 5   dog         6225 non-null   bool   \n",
      " 6   breed       6225 non-null   object \n",
      "dtypes: bool(1), float64(1), int64(2), object(3)\n",
      "memory usage: 298.0+ KB\n"
     ]
    }
   ],
   "source": [
    "# Store values of columns headers in `image_predictions_df_clean` in variables \n",
    "image_predictions_df_clean.info()"
   ]
  },
  {
   "cell_type": "code",
   "execution_count": 18,
   "metadata": {},
   "outputs": [
    {
     "data": {
      "text/plain": [
       "pupper     245\n",
       "doggo       83\n",
       "puppo       29\n",
       "floofer      9\n",
       "Name: dog_class, dtype: int64"
      ]
     },
     "execution_count": 18,
     "metadata": {},
     "output_type": "execute_result"
    }
   ],
   "source": [
    "# Replace `None` values with `NaN` or empty strings in dog classification variables\n",
    "archive_df_clean.dog_class.value_counts()"
   ]
  },
  {
   "cell_type": "code",
   "execution_count": 19,
   "metadata": {},
   "outputs": [
    {
     "data": {
      "text/plain": [
       "pupper     245\n",
       "doggo       83\n",
       "puppo       29\n",
       "floofer      9\n",
       "Name: dog_class, dtype: int64"
      ]
     },
     "execution_count": 19,
     "metadata": {},
     "output_type": "execute_result"
    }
   ],
   "source": [
    "# Combine the 4 dummy dog classification variables (doggo, floofer, pupper, puppo) to one `dog_class` variable\n",
    "archive_df_clean.dog_class.value_counts() "
   ]
  },
  {
   "cell_type": "code",
   "execution_count": 20,
   "metadata": {},
   "outputs": [
    {
     "data": {
      "text/plain": [
       "pupper     245\n",
       "doggo       83\n",
       "puppo       29\n",
       "floofer      9\n",
       "Name: dog_class, dtype: int64"
      ]
     },
     "execution_count": 20,
     "metadata": {},
     "output_type": "execute_result"
    }
   ],
   "source": [
    "# Fix rows with multiple dog classification\n",
    "archive_df_clean.dog_class.value_counts()"
   ]
  },
  {
   "cell_type": "code",
   "execution_count": 21,
   "metadata": {
    "scrolled": false
   },
   "outputs": [
    {
     "name": "stdout",
     "output_type": "stream",
     "text": [
      "object\n",
      "object\n",
      "object\n"
     ]
    }
   ],
   "source": [
    "# Convert `tweet_id` variable type to string in all dataframes\n",
    "dfs_clean = [archive_df_clean, image_predictions_df_clean, api_df_clean]\n",
    "for df in dfs_clean:\n",
    "    print(df['tweet_id'].dtype)"
   ]
  },
  {
   "cell_type": "code",
   "execution_count": 22,
   "metadata": {},
   "outputs": [
    {
     "data": {
      "text/plain": [
       "Twitter for iPhone     2221\n",
       "Vine - Make a Scene      91\n",
       "Twitter Web Client       33\n",
       "TweetDeck                11\n",
       "Name: tweet_source, dtype: int64"
      ]
     },
     "execution_count": 22,
     "metadata": {},
     "output_type": "execute_result"
    }
   ],
   "source": [
    "# Remove extra tags in `source` variable\n",
    "archive_df_clean['tweet_source'].value_counts()"
   ]
  },
  {
   "cell_type": "code",
   "execution_count": 23,
   "metadata": {
    "scrolled": true
   },
   "outputs": [
    {
     "name": "stderr",
     "output_type": "stream",
     "text": [
      "/opt/anaconda3/lib/python3.7/site-packages/pandas/core/strings.py:1952: UserWarning: This pattern has match groups. To actually get the groups, use str.extract.\n",
      "  return func(self, *args, **kwargs)\n"
     ]
    },
    {
     "data": {
      "text/html": [
       "<div>\n",
       "<style scoped>\n",
       "    .dataframe tbody tr th:only-of-type {\n",
       "        vertical-align: middle;\n",
       "    }\n",
       "\n",
       "    .dataframe tbody tr th {\n",
       "        vertical-align: top;\n",
       "    }\n",
       "\n",
       "    .dataframe thead th {\n",
       "        text-align: right;\n",
       "    }\n",
       "</style>\n",
       "<table border=\"1\" class=\"dataframe\">\n",
       "  <thead>\n",
       "    <tr style=\"text-align: right;\">\n",
       "      <th></th>\n",
       "      <th>text</th>\n",
       "      <th>rating_numerator</th>\n",
       "    </tr>\n",
       "  </thead>\n",
       "  <tbody>\n",
       "    <tr>\n",
       "      <th>45</th>\n",
       "      <td>This is Bella. She hopes her smile made you sm...</td>\n",
       "      <td>13.50</td>\n",
       "    </tr>\n",
       "    <tr>\n",
       "      <th>340</th>\n",
       "      <td>RT @dog_rates: This is Logan, the Chow who liv...</td>\n",
       "      <td>9.75</td>\n",
       "    </tr>\n",
       "    <tr>\n",
       "      <th>695</th>\n",
       "      <td>This is Logan, the Chow who lived. He solemnly...</td>\n",
       "      <td>9.75</td>\n",
       "    </tr>\n",
       "    <tr>\n",
       "      <th>763</th>\n",
       "      <td>This is Sophie. She's a Jubilant Bush Pupper. ...</td>\n",
       "      <td>11.27</td>\n",
       "    </tr>\n",
       "    <tr>\n",
       "      <th>1689</th>\n",
       "      <td>I've been told there's a slight possibility he...</td>\n",
       "      <td>9.50</td>\n",
       "    </tr>\n",
       "    <tr>\n",
       "      <th>1712</th>\n",
       "      <td>Here we have uncovered an entire battalion of ...</td>\n",
       "      <td>11.26</td>\n",
       "    </tr>\n",
       "  </tbody>\n",
       "</table>\n",
       "</div>"
      ],
      "text/plain": [
       "                                                   text  rating_numerator\n",
       "45    This is Bella. She hopes her smile made you sm...             13.50\n",
       "340   RT @dog_rates: This is Logan, the Chow who liv...              9.75\n",
       "695   This is Logan, the Chow who lived. He solemnly...              9.75\n",
       "763   This is Sophie. She's a Jubilant Bush Pupper. ...             11.27\n",
       "1689  I've been told there's a slight possibility he...              9.50\n",
       "1712  Here we have uncovered an entire battalion of ...             11.26"
      ]
     },
     "execution_count": 23,
     "metadata": {},
     "output_type": "execute_result"
    }
   ],
   "source": [
    "# Fix `rating_numerator` column values\n",
    "archive_df_clean[archive_df_clean.text.str.contains(\"(\\d+\\.\\d*\\/\\d+)\")][['text', 'rating_numerator']]"
   ]
  },
  {
   "cell_type": "code",
   "execution_count": 24,
   "metadata": {},
   "outputs": [
    {
     "data": {
      "text/plain": [
       "1521    Cedrick\n",
       "2283     Joshwa\n",
       "2242           \n",
       "1132           \n",
       "2352          A\n",
       "Name: name, dtype: object"
      ]
     },
     "execution_count": 24,
     "metadata": {},
     "output_type": "execute_result"
    }
   ],
   "source": [
    "# Fix non-capitalized and erroneous entries in name column\n",
    "archive_df_clean['name'].sample(5)"
   ]
  },
  {
   "cell_type": "code",
   "execution_count": 25,
   "metadata": {},
   "outputs": [
    {
     "name": "stdout",
     "output_type": "stream",
     "text": [
      "<class 'pandas.core.frame.DataFrame'>\n",
      "Int64Index: 5913 entries, 0 to 6224\n",
      "Data columns (total 17 columns):\n",
      " #   Column              Non-Null Count  Dtype              \n",
      "---  ------              --------------  -----              \n",
      " 0   tweet_id            5913 non-null   object             \n",
      " 1   algorithm           5913 non-null   int64              \n",
      " 2   jpg_url             5913 non-null   object             \n",
      " 3   img_num             5913 non-null   int64              \n",
      " 4   confidence          5913 non-null   float64            \n",
      " 5   dog                 5913 non-null   bool               \n",
      " 6   breed               5913 non-null   object             \n",
      " 7   timestamp           5913 non-null   datetime64[ns, UTC]\n",
      " 8   text                5913 non-null   object             \n",
      " 9   expanded_urls       5913 non-null   object             \n",
      " 10  rating_numerator    5913 non-null   float64            \n",
      " 11  rating_denominator  5913 non-null   int64              \n",
      " 12  name                5913 non-null   object             \n",
      " 13  dog_class           879 non-null    object             \n",
      " 14  tweet_source        5913 non-null   object             \n",
      " 15  retweet_count       2961 non-null   float64            \n",
      " 16  favorite_count      2961 non-null   float64            \n",
      "dtypes: bool(1), datetime64[ns, UTC](1), float64(4), int64(3), object(8)\n",
      "memory usage: 791.1+ KB\n"
     ]
    }
   ],
   "source": [
    "# Merge all three datasets on tweet_id\n",
    "master_df_clean.info()"
   ]
  },
  {
   "cell_type": "code",
   "execution_count": 26,
   "metadata": {},
   "outputs": [
    {
     "name": "stdout",
     "output_type": "stream",
     "text": [
      "<class 'pandas.core.frame.DataFrame'>\n",
      "Int64Index: 5913 entries, 0 to 6224\n",
      "Data columns (total 17 columns):\n",
      " #   Column              Non-Null Count  Dtype              \n",
      "---  ------              --------------  -----              \n",
      " 0   tweet_id            5913 non-null   object             \n",
      " 1   algorithm           5913 non-null   int64              \n",
      " 2   jpg_url             5913 non-null   object             \n",
      " 3   img_num             5913 non-null   int64              \n",
      " 4   confidence          5913 non-null   float64            \n",
      " 5   dog                 5913 non-null   bool               \n",
      " 6   breed               5913 non-null   object             \n",
      " 7   timestamp           5913 non-null   datetime64[ns, UTC]\n",
      " 8   text                5913 non-null   object             \n",
      " 9   expanded_urls       5913 non-null   object             \n",
      " 10  rating_numerator    5913 non-null   float64            \n",
      " 11  rating_denominator  5913 non-null   int64              \n",
      " 12  name                5913 non-null   object             \n",
      " 13  dog_class           879 non-null    object             \n",
      " 14  tweet_source        5913 non-null   object             \n",
      " 15  retweet_count       2961 non-null   float64            \n",
      " 16  favorite_count      2961 non-null   float64            \n",
      "dtypes: bool(1), datetime64[ns, UTC](1), float64(4), int64(3), object(8)\n",
      "memory usage: 791.1+ KB\n"
     ]
    }
   ],
   "source": [
    "# Identify and remove retweets and replies and drop unwanted retweets and replies columns and tweets without photos\n",
    "master_df_clean.info()"
   ]
  },
  {
   "cell_type": "code",
   "execution_count": 27,
   "metadata": {},
   "outputs": [
    {
     "data": {
      "text/plain": [
       "datetime64[ns, UTC]"
      ]
     },
     "execution_count": 27,
     "metadata": {},
     "output_type": "execute_result"
    }
   ],
   "source": [
    "# Convert `timestamp` variable type to datetime\n",
    "master_df_clean['timestamp'].dtype"
   ]
  },
  {
   "cell_type": "markdown",
   "metadata": {},
   "source": [
    "## 4- Store"
   ]
  },
  {
   "cell_type": "code",
   "execution_count": 28,
   "metadata": {},
   "outputs": [],
   "source": [
    "# Save cleaned master dataframe (master_df_clean) to .csv file\n",
    "master_df_clean.to_csv('twitter_archive_master.csv', index=False)"
   ]
  },
  {
   "cell_type": "markdown",
   "metadata": {},
   "source": [
    "## 5- Analysis and Visualization\n",
    "\n",
    "Analyze and visualize your wrangled data in your wrangle_act.ipynb Jupyter Notebook. At least three (3) insights and one (1) visualization must be produced.\n",
    "\n"
   ]
  },
  {
   "cell_type": "code",
   "execution_count": 29,
   "metadata": {},
   "outputs": [
    {
     "data": {
      "image/png": "[encoded data removed]",
      "text/plain": [
       "<Figure size 432x288 with 1 Axes>"
      ]
     },
     "metadata": {},
     "output_type": "display_data"
    }
   ],
   "source": [
    "# Compare the three image prediction algorithms in terms of confidence level\n",
    "master_df_clean.query('dog == True')\n",
    "algorithm_confidence = master_df_clean.groupby('algorithm')['confidence'].mean()\n",
    "plt.bar([0,1,2], algorithm_confidence, color='olive')\n",
    "plt.xlabel(\"Algorithm prediction\")\n",
    "plt.ylabel(\"Confidence level\")\n",
    "plt.title(\"Average confidence level by algorithm predictions\")\n",
    "plt.xticks([0,1,2], ['#1','#2','#3'])\n",
    "plt.show()"
   ]
  },
  {
   "cell_type": "code",
   "execution_count": 30,
   "metadata": {},
   "outputs": [],
   "source": [
    "# Will stick to algoirthm prediction #1 only in the dataset since it has the highest average confidence level\n",
    "master_df_clean_1 = master_df_clean.query('algorithm == 1')"
   ]
  },
  {
   "cell_type": "code",
   "execution_count": 31,
   "metadata": {},
   "outputs": [
    {
     "data": {
      "text/plain": [
       "pupper     201\n",
       "doggo       63\n",
       "puppo       22\n",
       "floofer      7\n",
       "Name: dog_class, dtype: int64"
      ]
     },
     "execution_count": 31,
     "metadata": {},
     "output_type": "execute_result"
    }
   ],
   "source": [
    "# Show frequency of dog classifications in the data\n",
    "master_df_clean_1['dog_class'].value_counts()"
   ]
  },
  {
   "cell_type": "code",
   "execution_count": 32,
   "metadata": {},
   "outputs": [
    {
     "data": {
      "image/png": "[encoded data removed]",
      "text/plain": [
       "<Figure size 432x288 with 1 Axes>"
      ]
     },
     "metadata": {},
     "output_type": "display_data"
    }
   ],
   "source": [
    "# Plot average dog rating enumerator based on dog classification\n",
    "dog_class_mean_numerator = master_df_clean_1.groupby('dog_class')['rating_numerator'].mean()\n",
    "dogs = ['doggo', 'floofer', 'pupper', 'puppo']\n",
    "location = [i for i, _ in enumerate(dog_class_mean_numerator)]\n",
    "\n",
    "plt.bar(location, dog_class_mean_numerator, color='olive')\n",
    "plt.xlabel(\"Dog classification\")\n",
    "plt.ylabel(\"Rating numerator\")\n",
    "plt.title(\"Average rating enumerator by dog classification\")\n",
    "plt.xticks(location, dogs)\n",
    "plt.xticks(rotation=45)\n",
    "plt.show()"
   ]
  },
  {
   "cell_type": "code",
   "execution_count": 33,
   "metadata": {},
   "outputs": [
    {
     "data": {
      "text/plain": [
       "dog_class\n",
       "doggo      11.888889\n",
       "floofer    12.000000\n",
       "pupper     10.638159\n",
       "puppo      12.000000\n",
       "Name: rating_numerator, dtype: float64"
      ]
     },
     "execution_count": 33,
     "metadata": {},
     "output_type": "execute_result"
    }
   ],
   "source": [
    "dog_class_mean_numerator"
   ]
  },
  {
   "cell_type": "code",
   "execution_count": 34,
   "metadata": {},
   "outputs": [
    {
     "data": {
      "text/plain": [
       "pupper     201\n",
       "doggo       63\n",
       "puppo       22\n",
       "floofer      7\n",
       "Name: dog_class, dtype: int64"
      ]
     },
     "execution_count": 34,
     "metadata": {},
     "output_type": "execute_result"
    }
   ],
   "source": [
    "# See mode of dog classification\n",
    "master_df_clean_1['dog_class'].value_counts()"
   ]
  },
  {
   "cell_type": "code",
   "execution_count": 35,
   "metadata": {},
   "outputs": [
    {
     "data": {
      "image/png": "[encoded data removed]",
      "text/plain": [
       "<Figure size 432x288 with 1 Axes>"
      ]
     },
     "metadata": {},
     "output_type": "display_data"
    }
   ],
   "source": [
    "# Show spread of tweet favorite count grouped by dog_classification\n",
    "chart = sns.boxplot(y='favorite_count', x='dog_class', \n",
    "                 data=master_df_clean_1, \n",
    "                 palette=\"BuGn_r\").set_title(\"Tweet favorite count by dog classification\");\n"
   ]
  },
  {
   "cell_type": "code",
   "execution_count": 36,
   "metadata": {},
   "outputs": [
    {
     "data": {
      "image/png": "[encoded data removed]",
      "text/plain": [
       "<Figure size 432x288 with 1 Axes>"
      ]
     },
     "metadata": {},
     "output_type": "display_data"
    }
   ],
   "source": [
    "# Show spread of tweet retweet count grouped by dog_classification\n",
    "chart = sns.boxplot(y='retweet_count', x='dog_class', \n",
    "                 data=master_df_clean_1, \n",
    "                 palette=\"BuGn_r\").set_title(\"Tweet retweet count by dog classification\");"
   ]
  },
  {
   "cell_type": "code",
   "execution_count": 37,
   "metadata": {},
   "outputs": [
    {
     "data": {
      "text/plain": [
       "1221    https://twitter.com/dog_rates/status/744234799...\n",
       "Name: expanded_urls, dtype: object"
      ]
     },
     "execution_count": 37,
     "metadata": {},
     "output_type": "execute_result"
    }
   ],
   "source": [
    "# See tweet with highest favorite count\n",
    "master_df_clean_1[master_df_clean_1['favorite_count'] == master_df_clean_1['favorite_count'].max()]['expanded_urls']"
   ]
  },
  {
   "cell_type": "code",
   "execution_count": 38,
   "metadata": {},
   "outputs": [
    {
     "data": {
      "text/plain": [
       "1221    https://twitter.com/dog_rates/status/744234799...\n",
       "Name: expanded_urls, dtype: object"
      ]
     },
     "execution_count": 38,
     "metadata": {},
     "output_type": "execute_result"
    }
   ],
   "source": [
    "# See tweet with highest retweet count\n",
    "master_df_clean_1[master_df_clean_1['retweet_count'] == master_df_clean_1['retweet_count'].max()]['expanded_urls']"
   ]
  },
  {
   "cell_type": "code",
   "execution_count": 39,
   "metadata": {},
   "outputs": [
    {
     "data": {
      "text/plain": [
       "dog_class\n",
       "doggo      704906.0\n",
       "floofer     80089.0\n",
       "pupper     743518.0\n",
       "puppo      120011.0\n",
       "Name: favorite_count, dtype: float64"
      ]
     },
     "execution_count": 39,
     "metadata": {},
     "output_type": "execute_result"
    }
   ],
   "source": [
    "# Show sum tweet favorite count by dog classification\n",
    "master_df_clean_1.groupby('dog_class')['favorite_count'].sum()"
   ]
  },
  {
   "cell_type": "code",
   "execution_count": 40,
   "metadata": {},
   "outputs": [
    {
     "data": {
      "text/plain": [
       "dog_class\n",
       "doggo      290958.0\n",
       "floofer     30635.0\n",
       "pupper     260992.0\n",
       "puppo       33822.0\n",
       "Name: retweet_count, dtype: float64"
      ]
     },
     "execution_count": 40,
     "metadata": {},
     "output_type": "execute_result"
    }
   ],
   "source": [
    "# Show sum tweet retweet count by dog classification\n",
    "master_df_clean_1.groupby('dog_class')['retweet_count'].sum()"
   ]
  },
  {
   "cell_type": "code",
   "execution_count": 41,
   "metadata": {},
   "outputs": [
    {
     "name": "stderr",
     "output_type": "stream",
     "text": [
      "/opt/anaconda3/lib/python3.7/site-packages/ipykernel_launcher.py:2: SettingWithCopyWarning: \n",
      "A value is trying to be set on a copy of a slice from a DataFrame.\n",
      "Try using .loc[row_indexer,col_indexer] = value instead\n",
      "\n",
      "See the caveats in the documentation: https://pandas.pydata.org/pandas-docs/stable/user_guide/indexing.html#returning-a-view-versus-a-copy\n",
      "  \n",
      "/opt/anaconda3/lib/python3.7/site-packages/ipykernel_launcher.py:3: SettingWithCopyWarning: \n",
      "A value is trying to be set on a copy of a slice from a DataFrame.\n",
      "Try using .loc[row_indexer,col_indexer] = value instead\n",
      "\n",
      "See the caveats in the documentation: https://pandas.pydata.org/pandas-docs/stable/user_guide/indexing.html#returning-a-view-versus-a-copy\n",
      "  This is separate from the ipykernel package so we can avoid doing imports until\n"
     ]
    },
    {
     "data": {
      "text/plain": [
       "(2016    962\n",
       " 2015    655\n",
       " 2017    354\n",
       " Name: year, dtype: int64,\n",
       " 12    414\n",
       " 11    347\n",
       " 1     232\n",
       " 2     172\n",
       " 3     165\n",
       " 7     137\n",
       " 6     123\n",
       " 5      98\n",
       " 4      94\n",
       " 10     65\n",
       " 9      63\n",
       " 8      61\n",
       " Name: month, dtype: int64)"
      ]
     },
     "execution_count": 41,
     "metadata": {},
     "output_type": "execute_result"
    }
   ],
   "source": [
    "# Show frequency of tweets in each month and in each year in the data\n",
    "master_df_clean_1['year'] = master_df_clean_1['timestamp'].dt.year.astype(str)\n",
    "master_df_clean_1['month'] = master_df_clean_1['timestamp'].dt.month.astype(str)\n",
    "\n",
    "master_df_clean_1['year'].value_counts(), master_df_clean_1['month'].value_counts()"
   ]
  }
 ],
 "metadata": {
  "kernelspec": {
   "display_name": "Python 3",
   "language": "python",
   "name": "python3"
  },
  "language_info": {
   "codemirror_mode": {
    "name": "ipython",
    "version": 3
   },
   "file_extension": ".py",
   "mimetype": "text/x-python",
   "name": "python",
   "nbconvert_exporter": "python",
   "pygments_lexer": "ipython3",
   "version": "3.7.6"
  }
 },
 "nbformat": 4,
 "nbformat_minor": 4
}
